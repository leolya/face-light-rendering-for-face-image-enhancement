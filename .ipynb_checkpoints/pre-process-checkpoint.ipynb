{
 "cells": [
  {
   "cell_type": "markdown",
   "metadata": {},
   "source": [
    "### generate normal, filled normal and skin mask from .obj file"
   ]
  },
  {
   "cell_type": "code",
   "execution_count": 1,
   "metadata": {},
   "outputs": [],
   "source": [
    "import numpy as np\n",
    "from skimage.io import imread, imsave\n",
    "import cv2\n",
    "import os\n",
    "import random\n",
    "from glob import glob\n",
    "from utils import *\n",
    "from tqdm import tqdm"
   ]
  },
  {
   "cell_type": "code",
   "execution_count": 2,
   "metadata": {},
   "outputs": [],
   "source": [
    "h = 512\n",
    "w = 512\n",
    "c = 3\n",
    "\n",
    "folder = \"./data/3d_obj/\"\n",
    "\n",
    "save_1 = \"./data/skin_mask/\"\n",
    "save_2 = \"./data/normal/\"\n",
    "save_3 = \"./data/normal_filled/\"\n",
    "\n",
    "objs = glob(folder + \"*.obj\")\n",
    "names = os.listdir(folder)\n",
    "file_num = len(names)"
   ]
  },
  {
   "cell_type": "code",
   "execution_count": 3,
   "metadata": {},
   "outputs": [],
   "source": [
    "def FillHole(mask):\n",
    "    _, contours, hierarchy = cv2.findContours(mask, cv2.RETR_TREE, cv2.CHAIN_APPROX_SIMPLE)\n",
    "    len_contour = len(contours)\n",
    "    contour_list = []\n",
    "    for i in range(len_contour):\n",
    "        drawing = np.zeros_like(mask, np.uint8)  # create a black image\n",
    "        img_contour = cv2.drawContours(drawing, contours, i, (255, 255, 255), -1)\n",
    "        contour_list.append(img_contour)\n",
    " \n",
    "    out = sum(contour_list)\n",
    "    return out"
   ]
  },
  {
   "cell_type": "code",
   "execution_count": 9,
   "metadata": {},
   "outputs": [
    {
     "name": "stderr",
     "output_type": "stream",
     "text": [
      "100%|████████████████████████████████████████████████████████████████████████████████████| 1/1 [00:26<00:00, 26.49s/it]\n"
     ]
    }
   ],
   "source": [
    "for i in tqdm(range(file_num)):\n",
    "    with open(objs[i]) as file:\n",
    "        points = []\n",
    "        faces = []\n",
    "        colors = []\n",
    "        while 1:\n",
    "            line = file.readline()\n",
    "            if not line:\n",
    "                break\n",
    "            strs = line.split(\" \")\n",
    "            if strs[0] == \"v\":\n",
    "                points.append((float(strs[1]), float(strs[2]), float(strs[3])))\n",
    "                colors.append((float(strs[4]), float(strs[5]), float(strs[6])))\n",
    "            if strs[0] == \"f\":\n",
    "                faces.append((int(strs[3]), int(strs[2]), int(strs[1])))\n",
    "\n",
    "    points = np.array(points)\n",
    "    points[:, 1] = h - 1 - points[:, 1]\n",
    "    faces = np.array(faces) - 1\n",
    "    colors = np.array(colors)\n",
    "    \n",
    "    normal = get_normal(points, faces)\n",
    "    normal = (normal + 1) / 2\n",
    "\n",
    "    \n",
    "    vis_colors = np.ones((points.shape[0], 1))\n",
    "    face_mask = render_texture(points.T, vis_colors.T, faces.T, h, w, c=1)\n",
    "    face_mask = np.squeeze(face_mask > 0).astype(np.float32)\n",
    "    imsave(save_1 + names[i][:-4] + \".jpg\", (face_mask * 255).astype(np.uint8))\n",
    "    \n",
    "    normal_render = render_texture(points.T, normal.T, faces.T, h, w, c=3)\n",
    "    normal_render = normal_render * face_mask[:, :, np.newaxis] # (0, 1)\n",
    "    normal_image = (normal_render * 255).astype(np.uint8)\n",
    "    imsave(save_2 + names[i][:-4] + \".jpg\", normal_image)\n",
    "    \n",
    "    inv_mask = 1 - face_mask\n",
    "    normal_image_filled = cv2.inpaint(normal_image, inv_mask.astype(np.uint8), 30, cv2.INPAINT_TELEA)\n",
    "    \n",
    "    # only fill mouth\n",
    "#     mask_fillhole = FillHole(face_mask.astype(np.uint8)) # (0, 255)\n",
    "#     mouth_mask = np.round(mask_fillhole / 255 - face_mask)\n",
    "#     normal_image_filled = cv2.inpaint(normal_image.astype(np.uint8), mouth_mask.astype(np.uint8), 30, cv2.INPAINT_NS)\n",
    "    \n",
    "    imsave(save_3 + names[i][:-4] + \".jpg\", normal_image_filled)"
   ]
  }
 ],
 "metadata": {
  "kernelspec": {
   "display_name": "Python 3",
   "language": "python",
   "name": "python3"
  },
  "language_info": {
   "codemirror_mode": {
    "name": "ipython",
    "version": 3
   },
   "file_extension": ".py",
   "mimetype": "text/x-python",
   "name": "python",
   "nbconvert_exporter": "python",
   "pygments_lexer": "ipython3",
   "version": "3.8.3"
  }
 },
 "nbformat": 4,
 "nbformat_minor": 4
}
